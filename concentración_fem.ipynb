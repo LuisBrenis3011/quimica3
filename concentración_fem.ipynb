{
  "nbformat": 4,
  "nbformat_minor": 0,
  "metadata": {
    "colab": {
      "provenance": [],
      "authorship_tag": "ABX9TyNwMly7qWXCFxhXE+LeioUw",
      "include_colab_link": true
    },
    "kernelspec": {
      "name": "python3",
      "display_name": "Python 3"
    },
    "language_info": {
      "name": "python"
    }
  },
  "cells": [
    {
      "cell_type": "markdown",
      "metadata": {
        "id": "view-in-github",
        "colab_type": "text"
      },
      "source": [
        "<a href=\"https://colab.research.google.com/github/LuisBrenis3011/quimica3/blob/main/concentraci%C3%B3n_fem.ipynb\" target=\"_parent\"><img src=\"https://colab.research.google.com/assets/colab-badge.svg\" alt=\"Open In Colab\"/></a>"
      ]
    },
    {
      "cell_type": "code",
      "execution_count": 23,
      "metadata": {
        "colab": {
          "base_uri": "https://localhost:8080/"
        },
        "id": "67GIrmtMquNS",
        "outputId": "34d2019c-32bb-4923-bc31-77b12608143a"
      },
      "outputs": [
        {
          "output_type": "stream",
          "name": "stdout",
          "text": [
            "ingrese las concentraciones por espacios: 0.15 0.68\n",
            "ingrese la temperatura en kelvin: 298\n",
            "ingrese la fem: -0.16\n",
            "cantidad de concentraciones: 2\n",
            "El cociente Q es: 0.2205882352941176\n",
            "la energía es: -0.1515734611451279\n"
          ]
        }
      ],
      "source": [
        "import math\n",
        "Q = []\n",
        "concentraciones = input(\"ingrese las concentraciones por espacios: \")\n",
        "temperatura = float(input(\"ingrese la temperatura en kelvin: \"))\n",
        "Fem = float(input(\"ingrese la fem: \"))\n",
        "R = 8.314\n",
        "F = 96500\n",
        "Q = [float(conc) for conc in concentraciones.split()]\n",
        "cantidad_concentraciones = len(Q)\n",
        "if len(Q) >= 2:\n",
        "    división = float(Q[0]/ Q[1])\n",
        "    log = math.log10(división)\n",
        "\n",
        "energía = Fem - ((R*temperatura)/(cantidad_concentraciones*F)*(log))\n",
        "\n",
        "print(f\"cantidad de concentraciones: {cantidad_concentraciones}\")\n",
        "print(f\"El cociente Q es: {división}\")\n",
        "print(f\"la energía es: {energía}\")\n"
      ]
    }
  ]
}