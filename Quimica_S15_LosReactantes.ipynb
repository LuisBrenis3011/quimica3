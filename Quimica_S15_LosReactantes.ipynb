{
  "nbformat": 4,
  "nbformat_minor": 0,
  "metadata": {
    "colab": {
      "provenance": [],
      "include_colab_link": true
    },
    "kernelspec": {
      "name": "python3",
      "display_name": "Python 3"
    },
    "language_info": {
      "name": "python"
    }
  },
  "cells": [
    {
      "cell_type": "markdown",
      "metadata": {
        "id": "view-in-github",
        "colab_type": "text"
      },
      "source": [
        "<a href=\"https://colab.research.google.com/github/LuisBrenis3011/quimica3/blob/main/Quimica_S15_LosReactantes.ipynb\" target=\"_parent\"><img src=\"https://colab.research.google.com/assets/colab-badge.svg\" alt=\"Open In Colab\"/></a>"
      ]
    },
    {
      "cell_type": "markdown",
      "source": [
        "Quimica\n",
        "\n",
        "Grupo \"Los reactantes\"\n",
        "\n",
        "Integrantes:\n",
        "\n",
        "*   Luis Guevara\n",
        "*   Esther Ticlla\n",
        "*   Hector Zerrillo\n",
        "*   Luis Brenis\n",
        "*   Alvaro Cencia"
      ],
      "metadata": {
        "id": "Lo9VUj0WkxZQ"
      }
    },
    {
      "cell_type": "code",
      "source": [
        "import math"
      ],
      "metadata": {
        "id": "j8cohEzTnZ6r"
      },
      "execution_count": null,
      "outputs": []
    },
    {
      "cell_type": "code",
      "source": [
        "print(\"Calcular el efecto de la concentracion sobre la fem estandar: \")\n",
        "T=float(input(\"Ingrese la temperatura en kelvin: \"))\n",
        "n=float(input(\"Ingrese el numero de moles: \"))\n",
        "R=8.314\n",
        "F=96500\n",
        "Q1=float(input(\"Ingrese la concentacion del primer elemento: \"))\n",
        "Q2=float(input(\"Ingrese la concentacion del segundo elemento: \"))\n",
        "fem=float(input(\"Ingrese la fem estandar de la celda: \"))\n",
        "\n",
        "concentracion=math.log10(Q1/Q2)\n",
        "\n",
        "energia=fem-(((R*T)/(n*F))*concentracion)\n",
        "energia=round(energia,3)\n",
        "\n",
        "print(\"El efecto de la concentracion sobre la fem estandar es: \", energia,\"V\")"
      ],
      "metadata": {
        "colab": {
          "base_uri": "https://localhost:8080/"
        },
        "id": "jwOp95EOlLZv",
        "outputId": "f1d8e8c7-275e-4a14-d869-bd8747ecb3aa"
      },
      "execution_count": null,
      "outputs": [
        {
          "output_type": "stream",
          "name": "stdout",
          "text": [
            "Calcular energia de la concentracion sobre la fem estandar: \n",
            "Ingrese la temperatura en kelvin: 298\n",
            "Ingrese el numero de moles: 2\n",
            "Ingrese la concentacion del primer elemento: 0.15\n",
            "Ingrese la concentacion del segundo elemento: 0.68\n",
            "Ingrese la fem estandar de la celda: -0.16\n",
            "El efecto de la concentracion sobre la fem estandar es:  -0.152 V\n"
          ]
        }
      ]
    }
  ]
}