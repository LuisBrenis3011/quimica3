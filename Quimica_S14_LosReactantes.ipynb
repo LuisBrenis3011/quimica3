{
  "nbformat": 4,
  "nbformat_minor": 0,
  "metadata": {
    "colab": {
      "provenance": [],
      "include_colab_link": true
    },
    "kernelspec": {
      "name": "python3",
      "display_name": "Python 3"
    },
    "language_info": {
      "name": "python"
    }
  },
  "cells": [
    {
      "cell_type": "markdown",
      "metadata": {
        "id": "view-in-github",
        "colab_type": "text"
      },
      "source": [
        "<a href=\"https://colab.research.google.com/github/LuisBrenis3011/quimica3/blob/main/Quimica_S14_LosReactantes.ipynb\" target=\"_parent\"><img src=\"https://colab.research.google.com/assets/colab-badge.svg\" alt=\"Open In Colab\"/></a>"
      ]
    },
    {
      "cell_type": "code",
      "source": [
        "# Buen dia profesor, al final no logramos encontrar una libreria de python que pueda balancear ecuaciones con aniones\n",
        "# Por lo que se recurrio a usar una libreria hecha por alguien y guardada en GitHub, pese a las pocas  especificaciones del autor,\n",
        "# Se intento lograr los resultados que se pidieron en la practica"
      ],
      "metadata": {
        "id": "EjkUKTdIsG7U"
      },
      "execution_count": null,
      "outputs": []
    },
    {
      "cell_type": "code",
      "execution_count": null,
      "metadata": {
        "id": "mdGJugXADvOi",
        "outputId": "006fe9b4-3efa-4d88-99bc-1383220bf5c7",
        "colab": {
          "base_uri": "https://localhost:8080/"
        }
      },
      "outputs": [
        {
          "output_type": "stream",
          "name": "stdout",
          "text": [
            "Cloning into 'Redox-Reaction-Balancer'...\n",
            "remote: Enumerating objects: 163, done.\u001b[K\n",
            "remote: Counting objects: 100% (163/163), done.\u001b[K\n",
            "remote: Compressing objects: 100% (112/112), done.\u001b[K\n",
            "remote: Total 163 (delta 74), reused 134 (delta 45), pack-reused 0\u001b[K\n",
            "Receiving objects: 100% (163/163), 48.40 KiB | 1.73 MiB/s, done.\n",
            "Resolving deltas: 100% (74/74), done.\n"
          ]
        }
      ],
      "source": [
        "# Es necesario correr las celdas de aqui, para clonar el repositorio y importar sus librerias\n",
        "! git clone https://github.com/Sd0071/Redox-Reaction-Balancer.git"
      ]
    },
    {
      "cell_type": "code",
      "source": [
        "import sys\n",
        "sys.path.append('/content/Redox-Reaction-Balancer')"
      ],
      "metadata": {
        "id": "LAL8hRhuGMb8"
      },
      "execution_count": null,
      "outputs": []
    },
    {
      "cell_type": "code",
      "source": [
        "import re"
      ],
      "metadata": {
        "id": "K7Prwq5edFLw"
      },
      "execution_count": null,
      "outputs": []
    },
    {
      "cell_type": "code",
      "source": [
        "from lib.molecule_identifier import Reaction"
      ],
      "metadata": {
        "id": "YU6eWZE0KDbV"
      },
      "execution_count": null,
      "outputs": []
    },
    {
      "cell_type": "code",
      "source": [
        "from lib.half_cell_reaction import balance_electron"
      ],
      "metadata": {
        "id": "nZCDTdEahh1Y"
      },
      "execution_count": null,
      "outputs": []
    },
    {
      "cell_type": "code",
      "source": [
        "from lib.molecule_identifier import Molecule"
      ],
      "metadata": {
        "id": "m0P-NvVXmXbK"
      },
      "execution_count": null,
      "outputs": []
    },
    {
      "cell_type": "code",
      "source": [
        "# En estas funciones, los coeficientes de los compuestos estan entre parentesis\n",
        "# Y las cargas totales de cada compuesto estan entre corchetes"
      ],
      "metadata": {
        "id": "ai-3VRyfuF4h"
      },
      "execution_count": null,
      "outputs": []
    },
    {
      "cell_type": "code",
      "source": [
        "# Ejemplo de como usarlo y calcular las energias de anodo y del catodo:"
      ],
      "metadata": {
        "id": "vhftEcFTuWtM"
      },
      "execution_count": null,
      "outputs": []
    },
    {
      "cell_type": "code",
      "source": [
        "# Crear una instancia de la clase Reaction con los parámetros dados\n",
        "reaction_instance = Reaction('(1)Fe1S2[0] + (2)H1Cl1[0]', '(1)Fe1Cl3[0] + (2)H1S1[0]')\n",
        "\n",
        "# Imprimir la ecuación antes de balancear\n",
        "print(\"Ecuación antes de balancear:\")\n",
        "reaction_instance.print_rxn()\n",
        "\n",
        "# Crear instancias de las reacciones de reducción y oxidación\n",
        "oxidation_reaction = Reaction('(1)Fe1S2[0]', '(1)Fe1[0] + (2)S1O4[-2]')\n",
        "reduction_reaction = Reaction('(2)H1Cl1[0]', '(2)H1[0] + (2)Cl1[-1]')\n",
        "\n",
        "# Llamar a la función balance_electron\n",
        "balanced_oxidation, balanced_reduction = balance_electron(oxidation_reaction, reduction_reaction)\n",
        "\n",
        "# Imprimir la ecuación después de balancear (reacción de reducción)\n",
        "print(\"\\nEcuación después de balancear:\")\n",
        "\n",
        "print(\"\\nOxidación (anodo)\")\n",
        "balanced_oxidation.print_rxn()\n",
        "\n",
        "print(\"\\nOxidación (catodo)\")\n",
        "balanced_reduction.print_rxn()\n"
      ],
      "metadata": {
        "colab": {
          "base_uri": "https://localhost:8080/"
        },
        "id": "e0SsUguYnbw2",
        "outputId": "1a8ed876-e184-4940-bd89-64648bd7bdd3"
      },
      "execution_count": null,
      "outputs": [
        {
          "output_type": "stream",
          "name": "stdout",
          "text": [
            "Ecuación antes de balancear:\n",
            "(1)Fe1S2[0] + (2)H1Cl1[0] + \b\b\b  ---> (1)Fe1Cl3[0] + (2)H1S1[0] + \b\b\b        \n",
            "\n",
            "\n",
            "Ecuación después de balancear:\n",
            "\n",
            "Oxidación (anodo)\n",
            "(1)Fe1S2[0] + \b\b\b  ---> (1)Fe1[0] + (2)S1O4[-2] + \b\b\b        \n",
            "\n",
            "\n",
            "Oxidación (catodo)\n",
            "(4)H1Cl1[0] + \b\b\b  ---> (4)H1[0] + (4)Cl1[-1] + \b\b\b        \n",
            "\n"
          ]
        }
      ]
    },
    {
      "cell_type": "code",
      "source": [
        "# Obtener las cargas totales de los productos del anodo y del catodo\n",
        "carga_total_anodo = balanced_oxidation.get_side('product')[1].get_charge() if balanced_oxidation.get_side('product') else 0\n",
        "carga_total_catodo = balanced_reduction.get_side('product')[1].get_charge() if balanced_reduction.get_side('product') else 0\n",
        "\n",
        "# Imprimir la ecuación después de balancear (reacción de reducción)\n",
        "print(\"\\nEcuación después de balancear:\")\n",
        "print(\"\\nOxidación (anodo)\")\n",
        "balanced_oxidation.print_rxn()\n",
        "\n",
        "print(\"\\nOxidación (catodo)\")\n",
        "balanced_reduction.print_rxn()\n",
        "\n",
        "# Imprimir las cargas totales de los productos del anodo y del catodo\n",
        "print(\"\\nCarga total del anodo:\", carga_total_anodo)\n",
        "print(\"Carga total del catodo:\", carga_total_catodo)"
      ],
      "metadata": {
        "colab": {
          "base_uri": "https://localhost:8080/"
        },
        "id": "BOl3--dC3KTa",
        "outputId": "e924a9c5-dbc1-4731-cd18-90ca72c77210"
      },
      "execution_count": null,
      "outputs": [
        {
          "output_type": "stream",
          "name": "stdout",
          "text": [
            "\n",
            "Ecuación después de balancear:\n",
            "\n",
            "Oxidación (anodo)\n",
            "(1)Fe1S2[0] + \b\b\b  ---> (1)Fe1[0] + (2)S1O4[-2] + \b\b\b        \n",
            "\n",
            "\n",
            "Oxidación (catodo)\n",
            "(4)H1Cl1[0] + \b\b\b  ---> (4)H1[0] + (4)Cl1[-1] + \b\b\b        \n",
            "\n",
            "\n",
            "Carga total del anodo: -4\n",
            "Carga total del catodo: -4\n"
          ]
        }
      ]
    },
    {
      "cell_type": "code",
      "source": [
        "# Obtener el número de moles de electrones transferidos en cada reacción\n",
        "moles_electrones_oxidacion = balanced_oxidation.get_side('product')[0].coff  # Coeficiente estequiométrico de 'e1' en la reacción de oxidación\n",
        "moles_electrones_reduccion = balanced_reduction.get_side('product')[0].coff  # Coeficiente estequiométrico de 'e1' en la reacción de reducción\n",
        "\n",
        "# Determinar el signo de los electrones en la oxidación y reducción\n",
        "signo_electrones_oxidacion = 1 if moles_electrones_oxidacion < 0 else -1\n",
        "signo_electrones_reduccion = 1 if moles_electrones_reduccion > 0 else -1\n",
        "\n",
        "electrones_oxidacion=abs(moles_electrones_oxidacion)* signo_electrones_oxidacion\n",
        "electrones_reduccion=abs(moles_electrones_reduccion)* signo_electrones_reduccion\n",
        "\n",
        "# Imprimir la cantidad de electrones transferidos y su signo\n",
        "print(\"Moles de electrones transferidos en la oxidación(anodo):\", electrones_oxidacion)\n",
        "print(\"Moles de electrones transferidos en la reducción(catodo):\", electrones_reduccion)"
      ],
      "metadata": {
        "colab": {
          "base_uri": "https://localhost:8080/"
        },
        "id": "s2iA8Gn3lfv8",
        "outputId": "de8c874f-eeb5-4d6b-95e2-112004169af5"
      },
      "execution_count": null,
      "outputs": [
        {
          "output_type": "stream",
          "name": "stdout",
          "text": [
            "Moles de electrones transferidos en la oxidación: -1\n",
            "Moles de electrones transferidos en la reducción: 4\n"
          ]
        }
      ]
    },
    {
      "cell_type": "code",
      "source": [
        "# Definimos una funcion para cambiar la notacion\n",
        "def cambiar_notacion(numero):\n",
        "  numero = (format(numero,'.3E'))\n",
        "  numero = numero.replace(\"E\", \" x 10^\")\n",
        "  return numero"
      ],
      "metadata": {
        "id": "ZIC0MooS-hpe"
      },
      "execution_count": null,
      "outputs": []
    },
    {
      "cell_type": "code",
      "source": [
        "# Hallamos la carga en coulomb para el anodo y catodo\n",
        "carga_electron = (-1.602*pow(10,-19))\n",
        "\n",
        "carga_c_anodo = electrones_oxidacion*carga_electron\n",
        "carga_c_catodo = electrones_reduccion*carga_electron\n",
        "\n",
        "carga_electron_not=cambiar_notacion(carga_electron)\n",
        "carga_c_anodo_not=cambiar_notacion(carga_c_anodo)\n",
        "carga_c_catodo_not=cambiar_notacion(carga_c_catodo)\n",
        "\n",
        "print(\"La carga del electron es: \",carga_electron_not)\n",
        "print(\"La carga en Coulumb de anodo: \",carga_c_anodo_not)\n",
        "print(\"La carga en Coulumb de catodo: \",carga_c_catodo_not)"
      ],
      "metadata": {
        "colab": {
          "base_uri": "https://localhost:8080/"
        },
        "id": "Re0cNk4067g-",
        "outputId": "d54efbc5-8ab0-42e1-8aaa-b355503a0d25"
      },
      "execution_count": null,
      "outputs": [
        {
          "output_type": "stream",
          "name": "stdout",
          "text": [
            "La carga del electron es:  -1.602 x 10^-19\n",
            "La carga en Coulumb de anodo:  1.602 x 10^-19\n",
            "La carga en Coulumb de catodo:  -6.408 x 10^-19\n"
          ]
        }
      ]
    },
    {
      "cell_type": "code",
      "source": [
        "# Potenciales estándar o potencial de celda (fem) de reducción en voltios (E°)\n",
        "standard_reduction_potentials = {\n",
        "    'Fe1[0]': 0.00,       # Potencial estándar de reducción para Fe1[0]\n",
        "    'S1O4[-2]': 1.00,     # Potencial estándar de reducción para S1O4[-2]\n",
        "    'H1[0]': 0.00,        # Potencial estándar de reducción para H1[0]\n",
        "    'Cl1[-1]': 1.36       # Potencial estándar de reducción para Cl1[-1]\n",
        "}\n",
        "\n",
        "# Cálculo del potencial estándar o potencial de celda (fem) de la celda electroquímica\n",
        "E_standard_cell = standard_reduction_potentials['Fe1[0]'] + 2 * standard_reduction_potentials['S1O4[-2]'] - (\n",
        "    standard_reduction_potentials['H1[0]'] + 4 * standard_reduction_potentials['Cl1[-1]']\n",
        ")\n",
        "\n",
        "print(f\"Potencial estándar de la celda electroquímica: {E_standard_cell:.2f} V\")\n"
      ],
      "metadata": {
        "id": "UQYdiFXVAWHl",
        "colab": {
          "base_uri": "https://localhost:8080/"
        },
        "outputId": "b1e234ef-8925-4081-fa5b-9b589be0eb36"
      },
      "execution_count": null,
      "outputs": [
        {
          "output_type": "stream",
          "name": "stdout",
          "text": [
            "Potencial estándar de la celda electroquímica: -3.44 V\n"
          ]
        }
      ]
    },
    {
      "cell_type": "code",
      "source": [
        "# Calculamos la energia\n",
        "\n",
        "energia_anodo = E_standard_cell*carga_c_anodo\n",
        "energia_catodo = E_standard_cell*carga_c_catodo\n",
        "\n",
        "energia_anodo_n = cambiar_notacion(energia_anodo)\n",
        "energia_catodo_n = cambiar_notacion(energia_catodo)\n",
        "\n",
        "print(\"La energia del anodo es: \", energia_anodo_n)\n",
        "print(\"La energia del catodo es: \", energia_catodo_n)"
      ],
      "metadata": {
        "colab": {
          "base_uri": "https://localhost:8080/"
        },
        "id": "eJi5cR_4b4fA",
        "outputId": "65e95faa-aae0-438d-8c4d-33f172152736"
      },
      "execution_count": null,
      "outputs": [
        {
          "output_type": "stream",
          "name": "stdout",
          "text": [
            "La energia del anodo es:  -5.511 x 10^-19\n",
            "La energia del catodo es:  2.204 x 10^-18\n"
          ]
        }
      ]
    }
  ]
}