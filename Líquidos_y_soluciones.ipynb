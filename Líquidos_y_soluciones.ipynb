{
  "nbformat": 4,
  "nbformat_minor": 0,
  "metadata": {
    "colab": {
      "provenance": [],
      "authorship_tag": "ABX9TyPhDgoTD2jvW8hPSw6oc4Zm",
      "include_colab_link": true
    },
    "kernelspec": {
      "name": "python3",
      "display_name": "Python 3"
    },
    "language_info": {
      "name": "python"
    }
  },
  "cells": [
    {
      "cell_type": "markdown",
      "metadata": {
        "id": "view-in-github",
        "colab_type": "text"
      },
      "source": [
        "<a href=\"https://colab.research.google.com/github/LuisBrenis3011/quimica3/blob/main/L%C3%ADquidos_y_soluciones.ipynb\" target=\"_parent\"><img src=\"https://colab.research.google.com/assets/colab-badge.svg\" alt=\"Open In Colab\"/></a>"
      ]
    },
    {
      "cell_type": "markdown",
      "source": [
        "**FUERZAS** **INTERMOLECULARES**"
      ],
      "metadata": {
        "id": "_1SECg-aosu1"
      }
    },
    {
      "cell_type": "markdown",
      "source": [
        "11.3 Explique la diferencia entre en momento dipolar temporal y un momento dipolar permanente."
      ],
      "metadata": {
        "id": "GvMA4EAYooo_"
      }
    },
    {
      "cell_type": "markdown",
      "source": [
        "El momento dipolar temporal ocurre cuando los electrones de una molécula se mueven de manera asimétrica en un instante específico, creando una separación de cargas positivas y negativas en ese momento. Por ejemplo, durante la colisión de átomos de hidrógeno en una molécula H2, los electrones pueden moverse hacia un extremo de la molécula, creando una separación de cargas temporales. Sin embargo, este momento dipolar desaparece cuando los electrones vuelven a distribuirse de manera uniforme.\n",
        "El momento dipolar permanente, por el contrario, se refiere al momento que se mantiene constante en una molécula debido a la distribución permanente de carga en la misma, lo que significa que hay una separación de cargas positivas y negativas que persiste a lo largo del tiempo debido a la geometría y la estructura de la molécula. Por ejemplo, en una molécula de agua, el oxígeno está más electronegativo que los átomos de hidrógeno, lo que significa que atrae más fuertemente los electrones compartidos en la molécula. Esto resulta en una separación de cargas con un extremo parcialmente positivo y otro extremo parcialmente negativo."
      ],
      "metadata": {
        "id": "CNDF4lLsoqiF"
      }
    },
    {
      "cell_type": "markdown",
      "source": [
        "11.4 Mencione alguna evidencia de que todos los átomos y moléculas ejercen entre sí fuerzas de atraccion."
      ],
      "metadata": {
        "id": "EBM48Qlq7wot"
      }
    },
    {
      "cell_type": "markdown",
      "source": [
        "La tensión superficial sería una evidencia pues es causada por las fuerzas de atracción entre las moléculas en la superficie de un líquido. Estas fuerzas en la superficie del líquido reduce el área superficial del líquido, logrando una superficie \"más tensa\" o \"más fuerte\" en comparación con el interior del líquido\n",
        "Esta fuerza de atracción entre las moléculas de agua en la superficie es una evidencia clara de que las moléculas interactúan y se atraen mutuamente. Si no hubiera fuerzas de atracción entre las moléculas, la superficie del agua sería mucho más débil y no podría mantener objetos ligeros en la parte superior"
      ],
      "metadata": {
        "id": "LNpkYoGv7w7V"
      }
    },
    {
      "cell_type": "markdown",
      "source": [
        "11.5 ¿Qué propiedades físicas se deberían considerar al comparar la intensidad de las fuerzas intermoleculares en los sólidos y los líquidos?"
      ],
      "metadata": {
        "id": "foRamZwe9Kal"
      }
    },
    {
      "cell_type": "markdown",
      "source": [
        "Capilaridad; solubilidad; volumen y compresibilidad; densidad; viscosidad; punto de fusión y punto de ebullición."
      ],
      "metadata": {
        "id": "IYueRpoB9R8N"
      }
    },
    {
      "cell_type": "markdown",
      "source": [
        "\n",
        "11.17 explique en funcion de las fuerzas intermolecualres por qué:\n",
        "a) NH3 tiene un punto de ebullición mas alto que el CH4\n",
        "b) KCL tiene un punto de fusión mayor que el de I2"
      ],
      "metadata": {
        "id": "yalbyvxWL5fH"
      }
    },
    {
      "cell_type": "markdown",
      "source": [
        "El NH3 forma puentes de hidrógeno (lo forman sustancias como el nitrógeno, fluor y oxígeno), una fuerza intermolecular más fuerte que la fuerza de dispersión (fuerzas de London) que experimenta CH4. En los puentes de hidrógeno, el hidrógeno parcialmente positivo en una molécula de NH3 se atrae hacia el parcialmente negativo en el átomo de nitrógeno de otra molécula de NH3. Esto crea fuerzas intermoleculares más fuertes en NH3 en comparación con las fuerzas de dispersión en CH4.\n",
        "\n",
        "El KCL tiene mayor punto de fusión con respecto al I2 porque los átomo de este primero forman enlaces iónicos (fuerza intramolecular), por lo que un extremo queda negativo y otro positivo y al unirse con otras moléculas de KCL estarían actuando fuerzas dipolo-dipolo. Mientras tanto, en el caso del I2 este forma fuerzas de london, por lo que es mas fácil de romper."
      ],
      "metadata": {
        "id": "_fBOMifXL4vZ"
      }
    },
    {
      "cell_type": "markdown",
      "source": [
        "11.94 ¿Cuál de las siguientes propiedades indica que las fuerzas intermolecualres de un líquido son fuertes?:\n",
        "a) tensión superficial muy baja.\n",
        "b) temperatura critica muy baja\n",
        "c) punto de ebullicion muy bajo\n",
        "D) presión de vapor muy baja"
      ],
      "metadata": {
        "id": "89LbO4GfUxS3"
      }
    },
    {
      "cell_type": "markdown",
      "source": [
        "La presión de vapor muy baja porque las moléculas de un líquido en equilibrio con su fase gaseosa tienen menos tendencia a escapar y pasar a la fase gaseosa, por lo que las fuerzas intermoleculares serían fuertes."
      ],
      "metadata": {
        "id": "czM6G-PXU0-s"
      }
    },
    {
      "cell_type": "markdown",
      "source": [
        "**PROPIEDADES DE LOS LÍQUIDOS**"
      ],
      "metadata": {
        "id": "kilKDW6EVoA0"
      }
    },
    {
      "cell_type": "markdown",
      "source": [
        "11.21 por qué los liquidos a diferencia de los gases son practicamente incomprensibles"
      ],
      "metadata": {
        "id": "bQeE5KcpVrgD"
      }
    },
    {
      "cell_type": "markdown",
      "source": [
        "Los enlaces de hidrógeno, mantienen a las moléculas de un líquido unidas y les impiden acercarse significativamente entre sí cuando se aplica una presión. A medida que se intenta comprimir un líquido, estas fuerzas intermoleculares se oponen a la compresión y mantienen la estructura del líquido constante.\n",
        "Por otra parte, los gases tienen distancias intermoleculares mucho más grandes y experimentan fuerzas intermoleculares significativamente más débiles en comparación con los líquidos. Debido a estas distancias más grandes y a la debilidad de las fuerzas intermoleculares, los gases son altamente compresibles y pueden reducir su volumen considerablemente cuando se aplica presión."
      ],
      "metadata": {
        "id": "5fOBNWa2fWf1"
      }
    },
    {
      "cell_type": "markdown",
      "source": [
        "11.22 ¿Qué es la tensión superficial?¿qué relacion existe entre esta propiedad y las fuerzas intermoleculares?¿cómo cambia la tensión superficial con la temperatura?"
      ],
      "metadata": {
        "id": "V-4arNEagbPt"
      }
    },
    {
      "cell_type": "markdown",
      "source": [
        "La tensión superficial es una propiedad de los líquidos causada por las fuerzas intermoleculares en su superficie, que tienden a agrupar las moléculas  logrando que la parte superior se vuela mas resistente o fuerte. La relación es que estas fuerzas intermoleculares son responsables de la tensión superficial al formar feurzas entre moléculas muy fuertes. La tensión superficial disminuye con el aumento de la temperatura, ya que las moléculas en la superficie tienen más energía y se mueven con mayor agitación, debilitando las fuerzas intermoleculares en la superficie."
      ],
      "metadata": {
        "id": "yACYvFzagbgF"
      }
    },
    {
      "cell_type": "markdown",
      "source": [
        "11.25 Un vaso se puede llenar con agua justo por encima del borde. ¿Por qué el agua no se derrama?"
      ],
      "metadata": {
        "id": "wnn1XYOmjZeh"
      }
    },
    {
      "cell_type": "markdown",
      "source": [
        "Eso se debe por la cohesión ya que es lo que mantiene unidas las moléculas de agua. Estas fuerzas de cohesión tienden a mantener el agua en una forma curva en la parte superior del vaso."
      ],
      "metadata": {
        "id": "pICGly0sjxam"
      }
    },
    {
      "cell_type": "markdown",
      "source": [
        "11.27 ¿Qué es la viscosidad?¿Cuál es la relación entre la viscosidad y las fuerzas intermoleculares?"
      ],
      "metadata": {
        "id": "L-L1GQSfj_nt"
      }
    },
    {
      "cell_type": "markdown",
      "source": [
        "La viscosidad es una propiedad  que describe la resistencia de un fluido al flujo. Se relaciona con la fricción interna entre las capas de un fluido a medida que se desplazan una sobre la otra.\n",
        "La relación es que en líquidos con fuerzas intermoleculares más fuertes, las moléculas tienden a estar más cohesionadas y requieren más energía para moverse unas sobre otras, lo que resulta en una viscosidad más alta. Por otro lado, en líquidos con fuerzas intermoleculares más débiles, las moléculas pueden moverse con mayor facilidad entre sí, lo que resulta en una viscosidad más baja."
      ],
      "metadata": {
        "id": "Ok4KYS6Zj_89"
      }
    },
    {
      "cell_type": "markdown",
      "source": [
        "**SOLUCIONES**"
      ],
      "metadata": {
        "id": "Jyvc7QWEu6xF"
      }
    },
    {
      "cell_type": "markdown",
      "source": [
        "12.3 Describa brevemente el proceso de disolción a nivel molecular. Utilice como ejemplo la disolución de un sólido en un líquido:"
      ],
      "metadata": {
        "id": "XAzqqLtZuHI4"
      }
    },
    {
      "cell_type": "markdown",
      "source": [
        "En la disolución de un sólido en un líquido, las moléculas del sólido se separan al romper las fuerzas intermoleculares que las mantienen unidas en el sólido, y luego se dispersan en el líquido, donde interactúan con las moléculas del líquido. Si las interacciones son lo suficientemente fuertes, las moléculas del sólido se dispersan uniformemente en el líquido, formando una mezcla homogénea."
      ],
      "metadata": {
        "id": "sE3tsYlbuVN5"
      }
    },
    {
      "cell_type": "markdown",
      "source": [
        "12.4 A partir de las fuerzas intermoleculares, explique el significado de \"lo semejante disuelve lo semejante\""
      ],
      "metadata": {
        "id": "Zti3qQQwvCRS"
      }
    },
    {
      "cell_type": "markdown",
      "source": [
        "Se refiere a la tendencia de que sustancias con fuerzas intermoleculares similares se disuelvan entre sí con mayor facilidad. Esto significa que las sustancias con interacciones moleculares parecidas tienden a mezclarse de manera más efectiva en una disolución. Por ejemplo, las sustancias polares tienden a disolverse mejor en otras sustancias polares debido a la afinidad de las fuerzas intermoleculares, como las fuerzas dipolo-dipolo y los enlaces de hidrógeno."
      ],
      "metadata": {
        "id": "z8-jxllOxja9"
      }
    },
    {
      "cell_type": "markdown",
      "source": [
        "12.7 Explique por qué el proceso de disolución invariablemente conduce a un aumento en el desorden"
      ],
      "metadata": {
        "id": "qTaCz0CmzM5o"
      }
    },
    {
      "cell_type": "markdown",
      "source": [
        "Hasta cierto punto el soluto y el disolvente se encuentran en orden, sin embargo esta empieza a cambiar cuando se disuelve el soluto favoreciendo la solubilidad de una sustancia."
      ],
      "metadata": {
        "id": "JxKhHzMuzNJJ"
      }
    },
    {
      "cell_type": "markdown",
      "source": [
        "12.10 Explique por qué el etanol (C2H5OH) no es soluble en ciclohexano (C6H12)"
      ],
      "metadata": {
        "id": "akL-Hfkqxqf3"
      }
    },
    {
      "cell_type": "markdown",
      "source": [
        "El etanol es una molécula polar debido a la presencia del grupo hidroxilo (OH), por lo que forma puentes de hidrógeno y experimenta fuerzas de dipolo-dipolo. Por el contrario, el ciclohexano es una molécula no polar con fuerzas de dispersión de London como fuerzas intermoleculares predominantes.Las moléculas de etanol tienen interacciones más fuertes entre sí debido a las fuerzas polares, mientras que las moléculas de ciclohexano no. Esto resulta en una falta de afinidad entre las dos sustancias, y el etanol no se mezcla de manera efectiva en el ciclohexano."
      ],
      "metadata": {
        "id": "zFqoFlq4xq9J"
      }
    },
    {
      "cell_type": "markdown",
      "source": [
        "**UNIDADES DE CONCENTRACIÓN**"
      ],
      "metadata": {
        "id": "sBzLrMworwlv"
      }
    },
    {
      "cell_type": "markdown",
      "source": [
        "12.13 Defina los siguientes términos de concentración y esepcifique sus unidades \"porcentaje en masa\" , \"fracción molar\", \"molaridad\" y \"molalidad\". Compare sus ventajes y desventajas."
      ],
      "metadata": {
        "id": "1mI36rglr0JC"
      }
    },
    {
      "cell_type": "markdown",
      "source": [
        "Porcentaje en masa es la cantidad de soluto expresada como un porcentaje del peso total de la solución, fracción molar es la proporción de moles de un componente respecto al total de moles en la solución, molaridad es la concentración en moles de soluto por litro de disolvente, y molalidad es la concentración en moles de soluto por kilogramo de disolvente.\n",
        "\n",
        "En cuanto a las ventajas y desventajas, el porcentaje en masa es fácil de entender pero no es adecuado para gases. La fracción molar es útil en reacciones y mezclas sin importar la naturaleza de los componentes. La molaridad se relaciona directamente con reacciones químicas, pero no es ideal para volumen muy grandes. La molalidad es útil en cambios de temperatura, pero no se vincula directamente a proporciones estequiométricas."
      ],
      "metadata": {
        "id": "GX3l722o2PN_"
      }
    },
    {
      "cell_type": "markdown",
      "source": [
        "12.14 Describa brevemente los pasos que se requieren para la conversión entre la molaridad, molalidad y porcentaje en masa."
      ],
      "metadata": {
        "id": "1brM569h4CaU"
      }
    },
    {
      "cell_type": "markdown",
      "source": [
        "Para cambiar de molaridad a molalidad o viceversa, es necesario conocer la densidad de la solución, ya que esta relaciona la cantidad de soluto y la cantidad de disolvente, de ahí obtenemos la masa de la solución y la usamos para calcular la masa del soluto y disolvente. Para pasar de molaridad a % en masa o viceversa, se deben tener en cuenta los moles del soluto y densidad, encontramos el volumen en litros, la masa de la solución, la masa del soluto y finalmente el %masa."
      ],
      "metadata": {
        "id": "9oEqzrIh4Ox-"
      }
    },
    {
      "cell_type": "markdown",
      "source": [
        "12.15 calcule el porcentaje en masa de soluto en cada una de las siguientes disoluciones acuosas:\n",
        "a) 5.50g de NaBr en 78.2g de disolución\n",
        "b) 31g de KCL en 152g de agua.\n",
        "c) 4.5g de tolueno en 29g de benceno"
      ],
      "metadata": {
        "id": "vk_axv9OFAqD"
      }
    },
    {
      "cell_type": "code",
      "source": [
        "# a)\n",
        "masa_NaBr = 5.5 #gramos\n",
        "masa_disolucion = 78.2  # gramos\n",
        "\n",
        "# b)\n",
        "masa_KCL = 31  #gramos\n",
        "masa_agua = 152  #gramos\n",
        "\n",
        "# c)\n",
        "masa_tolueno = 4.5  #gramos\n",
        "masa_benceno = 29  #gramos\n",
        "\n",
        "porcentajemasaA = (masa_NaBr / masa_disolucion) * 100\n",
        "print(f\"a) Porcentaje en masa de NaBr: {porcentajemasaA:.2f}%\")\n",
        "porcentajemasaB = (masa_KCL / (masa_agua + masa_KCL)) * 100\n",
        "print(f\"b) Porcentaje en masa de KCL: {porcentajemasaB:.2f}%\")\n",
        "porcentajemasaC = (masa_tolueno / (masa_benceno + masa_tolueno)) * 100\n",
        "print(f\"c) Porcentaje en masa de tolueno: {porcentajemasaC:.2f}%\")\n",
        "\n"
      ],
      "metadata": {
        "colab": {
          "base_uri": "https://localhost:8080/"
        },
        "id": "vDg7wYeuFBxE",
        "outputId": "1b2f3df2-4341-4e9e-8853-cd5a1cb75c63"
      },
      "execution_count": 21,
      "outputs": [
        {
          "output_type": "stream",
          "name": "stdout",
          "text": [
            "a) Porcentaje en masa de NaBr: 7.03%\n",
            "b) Porcentaje en masa de KCL: 16.94%\n",
            "c) Porcentaje en masa de tolueno: 13.43%\n"
          ]
        }
      ]
    },
    {
      "cell_type": "markdown",
      "source": [
        "12.16 Calcule la cantidad de agua (en gramos) que se debea agregar a:\n",
        "a) 5g de urea (NH_2)_2CO para preparar una disolución al 16.2% en masa.\n",
        "b) 26.2g MgCL_2 para preparar una disolución al 1.5% en masa."
      ],
      "metadata": {
        "id": "aStqqF_CHTvk"
      }
    },
    {
      "cell_type": "code",
      "source": [
        "#a)\n",
        "masa_NH_2_2CO = 5 #gramos\n",
        "porcentaje_masa = 16.2\n",
        "masa_solución = masa_NH_2_2CO * 100 / porcentaje_masa\n",
        "masa_agua = masa_solución - masa_NH_2_2CO\n",
        "print(f\"a) La cantidad de agua necesaria es: {masa_agua:.2f}g\")\n",
        "\n",
        "#b)\n",
        "masa_MgCL_2 = 26.2 #gramos\n",
        "porcentaje_masa2 = 1.5\n",
        "masa_solución2 = masa_MgCL_2 * 100 / porcentaje_masa2\n",
        "masa_agua2 = masa_solución2 - masa_MgCL_2\n",
        "print(f\"b) La cantidad de agua necesaria es: {masa_agua2:.2f}g\")"
      ],
      "metadata": {
        "colab": {
          "base_uri": "https://localhost:8080/"
        },
        "id": "4g9iklhoXsPN",
        "outputId": "8b785604-3451-411a-abbb-34c9d17693dc"
      },
      "execution_count": 20,
      "outputs": [
        {
          "output_type": "stream",
          "name": "stdout",
          "text": [
            "a) La cantidad de agua necesaria es: 25.86g\n",
            "b) La cantidad de agua necesaria es: 1720.47g\n"
          ]
        }
      ]
    },
    {
      "cell_type": "markdown",
      "source": [
        "12.17 Calcule la molalidad de cada una de las siguientes disoluciones:\n",
        "a) 14.3g de sacarosa (C12H22O11) en 676g de agua.\n",
        "b) 7.2 moles de etilenglicol (C2H6O2) en 3546g de agua."
      ],
      "metadata": {
        "id": "iu2s7EwSbsA4"
      }
    },
    {
      "cell_type": "code",
      "source": [
        "# a)\n",
        "masa_sacarosa_C12H22O11 = 14.3 #gramos\n",
        "masa_agua = 676 #gramos\n",
        "masa_molar_sacarosa = 342 #g/mol\n",
        "moles_sacarosa = masa_sacarosa_C12H22O11 / masa_molar_sacarosa\n",
        "molalidad_a = moles_sacarosa / (masa_agua / 1000) # Convertir gramos a kg\n",
        "print(\"Molalidad de la disolución a:\", molalidad_a, \"mol/kg\")\n",
        "\n",
        "# b)\n",
        "moles_etilenglicol = 7.2\n",
        "masa_agua_b = 3546  # gramos\n",
        "molalidad_b = moles_etilenglicol / (masa_agua_b / 1000) # Convertir gramos a kg\n",
        "print(\"Molalidad de la disolución b:\", molalidad_b, \"mol/kg\")\n"
      ],
      "metadata": {
        "colab": {
          "base_uri": "https://localhost:8080/"
        },
        "id": "pMeOZjEBf1fY",
        "outputId": "79f4cbe1-4b58-4eee-fadd-c6e66f401ecb"
      },
      "execution_count": 19,
      "outputs": [
        {
          "output_type": "stream",
          "name": "stdout",
          "text": [
            "Molalidad de la disolución a: 0.06185335132703553 mol/kg\n",
            "Molalidad de la disolución b: 2.0304568527918785 mol/kg\n"
          ]
        }
      ]
    },
    {
      "cell_type": "markdown",
      "source": [
        "12.23 Calcule la molaridad y la molalidad de una disolucion de NH3 preparada con 30g de NH3 en 70g de agua. La densidad de la disolucion es de 0.982 g/mL"
      ],
      "metadata": {
        "id": "M8Akos1ciCYW"
      }
    },
    {
      "cell_type": "code",
      "source": [
        "masa_nh3 = 30 #gramos\n",
        "masa_agua = 70 #gramos\n",
        "densidad_disolucion = 0.982 #g/mL\n",
        "masa_molar_nh3 = 17 #g/mol\n",
        "\n",
        "moles_nh3 = masa_nh3 / masa_molar_nh3\n",
        "\n",
        "volumen_agua_litros = masa_agua / (densidad_disolucion * 1000)  # Convertir gramos a kg\n",
        "\n",
        "masa_molar_agua = 18.015  #g/mol\n",
        "moles_agua = masa_agua / masa_molar_agua\n",
        "\n",
        "molaridad = moles_nh3 / volumen_agua_litros\n",
        "\n",
        "masa_total_disolucion = masa_nh3 + masa_agua\n",
        "molalidad = moles_nh3 / (masa_agua / 1000)\n",
        "\n",
        "print(\"Molaridad de la disolución:\", molaridad, \"mol/L\")\n",
        "print(\"Molalidad de la disolución:\", molalidad, \"mol/kg\")"
      ],
      "metadata": {
        "colab": {
          "base_uri": "https://localhost:8080/"
        },
        "id": "GZekI9M-kpXb",
        "outputId": "9f37dfd9-8ff5-494e-9cbf-25c24f5bd725"
      },
      "execution_count": 18,
      "outputs": [
        {
          "output_type": "stream",
          "name": "stdout",
          "text": [
            "Molaridad de la disolución: 24.756302521008404 mol/L\n",
            "Molalidad de la disolución: 25.21008403361344 mol/kg\n"
          ]
        }
      ]
    },
    {
      "cell_type": "markdown",
      "source": [
        "**EFECTOD DE LA TEMPERATURA EN LA SOLUBILIDAD**"
      ],
      "metadata": {
        "id": "gwL88Zzonjmt"
      }
    },
    {
      "cell_type": "markdown",
      "source": [
        "12.27 Una muestra de 3.2g de una sal se disuelve en 9.10g de agua para formar una disolución saturada a 25°C ¿Cuál es la solubilidad (en gramos de sal/100g de H2O) de la sal?"
      ],
      "metadata": {
        "id": "2vf1BXF_pSwt"
      }
    },
    {
      "cell_type": "code",
      "source": [
        "masa_sal = 3.2  #gramos\n",
        "masa_agua = 9.10  #gramos\n",
        "solubilidad = (masa_sal / (masa_agua + masa_sal)) * 100\n",
        "print(f\"La solubilidad de la sal es {solubilidad:.2f} g/100g de H2O\")\n"
      ],
      "metadata": {
        "colab": {
          "base_uri": "https://localhost:8080/"
        },
        "id": "_lOfZL4NvT28",
        "outputId": "c62e008d-e7eb-4b86-cd14-a081dee7607e"
      },
      "execution_count": 17,
      "outputs": [
        {
          "output_type": "stream",
          "name": "stdout",
          "text": [
            "La solubilidad de la sal es 26.02 g/100g de H2O\n"
          ]
        }
      ]
    }
  ]
}