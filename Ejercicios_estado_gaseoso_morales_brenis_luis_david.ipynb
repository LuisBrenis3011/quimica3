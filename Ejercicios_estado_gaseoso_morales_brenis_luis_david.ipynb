{
  "nbformat": 4,
  "nbformat_minor": 0,
  "metadata": {
    "colab": {
      "provenance": [],
      "authorship_tag": "ABX9TyNw9Gj94wYZLgjTsWhMk+wc",
      "include_colab_link": true
    },
    "kernelspec": {
      "name": "python3",
      "display_name": "Python 3"
    },
    "language_info": {
      "name": "python"
    }
  },
  "cells": [
    {
      "cell_type": "markdown",
      "metadata": {
        "id": "view-in-github",
        "colab_type": "text"
      },
      "source": [
        "<a href=\"https://colab.research.google.com/github/LuisBrenis3011/quimica3/blob/main/Ejercicios_estado_gaseoso_morales_brenis_luis_david.ipynb\" target=\"_parent\"><img src=\"https://colab.research.google.com/assets/colab-badge.svg\" alt=\"Open In Colab\"/></a>"
      ]
    },
    {
      "cell_type": "markdown",
      "source": [
        "\n",
        "1. El estado Gaseoso: generalidades"
      ],
      "metadata": {
        "id": "3SlW1NEBM65e"
      }
    },
    {
      "cell_type": "markdown",
      "source": [
        "1.1. Calcula el volumen ocupado por 2 moles de gas a una presión de 3 atmósferas y una\n",
        "temperatura de 300 K."
      ],
      "metadata": {
        "id": "Df1MEQ2cM27V"
      }
    },
    {
      "cell_type": "code",
      "execution_count": null,
      "metadata": {
        "id": "Y44LHzOvLgrX"
      },
      "outputs": [],
      "source": [
        "\n",
        "R = 0.0821\n",
        "n = 2\n",
        "P = 3\n",
        "T = 300\n",
        "V = (n * R * T) / P\n",
        "print(\"El volumen ocupado por 2 moles de gas a una presión de 3 atmósferas y una temperatura de 300 K es:\", V, \"litros\")\n"
      ]
    },
    {
      "cell_type": "markdown",
      "source": [
        "1.3. Si 1 mol de un gas ideal ocupa 22.4 litros a 0°C y 1 atmósfera, ¿cuál es la constante R en\n",
        "unidades de litros x atmósferas / (mol x Kelvin)?"
      ],
      "metadata": {
        "id": "UkaOPIjaNWG4"
      }
    },
    {
      "cell_type": "code",
      "source": [
        "n = 1\n",
        "V = 22.4\n",
        "T = 273.15\n",
        "P = 1\n",
        "R = (P * V) / (n * T)\n",
        "\n",
        "print(\"La constante R en unidades de litros x atmósferas / (mol x Kelvin) es:\", R, \"L*atm / (mol*K)\")\n"
      ],
      "metadata": {
        "id": "leECzvJqNYIX"
      },
      "execution_count": null,
      "outputs": []
    },
    {
      "cell_type": "markdown",
      "source": [
        "2. Características del estado gaseoso"
      ],
      "metadata": {
        "id": "KkmdNkTBQdAI"
      }
    },
    {
      "cell_type": "markdown",
      "source": [
        "2.1. ¿Cuál es la principal característica que distingue a los gases de los líquidos y sólidos?"
      ],
      "metadata": {
        "id": "UJlYiYdUQfhw"
      }
    },
    {
      "cell_type": "markdown",
      "source": [
        "La principal característica que distingue a los gases de los líquidos y los sólidos es el comportamiento de las moléculas que las componen. En un sólido las moléculas se encuentran muy compactas con enlaces dificiles de romper teniendo una forma y volumen definidos. En un líquido las moléculas se encuentran mas separadas por lo que pueden cambiar en su forma adaptándose al recipiente que la contiene. En el estado gaseoso sin embargo, las moléculas se encutran muy dispersas y alteradas, no tienen forma ni volumen establecidos y siempre llegaran a todas partes del recipiente que las contiene"
      ],
      "metadata": {
        "id": "7Nbw28EtQhef"
      }
    },
    {
      "cell_type": "markdown",
      "source": [
        "2.5. ¿Por qué los gases no tienen una forma o un volumen definidos?"
      ],
      "metadata": {
        "id": "zbrbFaEYS3zs"
      }
    },
    {
      "cell_type": "markdown",
      "source": [
        "Los gases no tienen forma ni volumen definidos porque las moléculas están en constante movimiento y tienen una alta energía cinética. Debido a esta energía cinética, las moléculas tienen suficiente energía para superar las fuerzas intermoleculares débiles que existen entre ellas, por lo que las moléculas de gas pueden moverse libremente y ocupar todo el espacio disponible en su contenedor. Debido a ello, los gases no tienen una forma o un volumen definidos y adoptarán la forma y el volumen del recipiente que los contiene, ya que las partículas se dispersarán para llenar completamente el espacio disponible en el contenedor."
      ],
      "metadata": {
        "id": "tHldznRyS6yQ"
      }
    },
    {
      "cell_type": "markdown",
      "source": [
        "3. Definición y problemas sobre presión"
      ],
      "metadata": {
        "id": "yNyA3dTmOwH_"
      }
    },
    {
      "cell_type": "markdown",
      "source": [],
      "metadata": {
        "id": "ZZJIzStuSwJt"
      }
    },
    {
      "cell_type": "markdown",
      "source": [
        "3.1. Calcula la presión ejercida por 0.5 moles de gas en un recipiente de 10 litros a 25°C."
      ],
      "metadata": {
        "id": "MfnepgfJOz__"
      }
    },
    {
      "cell_type": "code",
      "source": [
        "n = 0.5\n",
        "V = 10\n",
        "temperatura_celsius = 25\n",
        "T = temperatura_celsius + 273\n",
        "R = 0.0821\n",
        "P = (n * R * T) / V\n",
        "\n",
        "print(\"La presión ejercida por 0.5 moles de gas en un recipiente de 10 litros a 25°C es:\", P, \"atmósferas\")"
      ],
      "metadata": {
        "id": "bJC2TrOiOnnW"
      },
      "execution_count": null,
      "outputs": []
    },
    {
      "cell_type": "markdown",
      "source": [
        "3.4. Si un gas ocupa 500 ml a una presión de 750 mmHg, ¿cuál es su volumen a 1 atmósfera?"
      ],
      "metadata": {
        "id": "V_fYMsX1PJOn"
      }
    },
    {
      "cell_type": "code",
      "source": [
        "P1 = 750  # Presión inicial en mmHg\n",
        "V1 = 500  # Volumen inicial en ml\n",
        "\n",
        "# Convertir la presión inicial de mmHg a atmósferas\n",
        "P1_atmosfera = P1 / 760  # 1 atm = 760 mmHg\n",
        "\n",
        "# Presión final en atmósferas\n",
        "P2 = 1\n",
        "\n",
        "V2 = (P1_atmosfera * V1) / P2\n",
        "print(\"El volumen del gas a 1 atmósfera es:\", V2, \"ml\")\n"
      ],
      "metadata": {
        "id": "gjTggH6uPJ7o"
      },
      "execution_count": null,
      "outputs": []
    },
    {
      "cell_type": "markdown",
      "source": [
        "4. Principios de la Teoría Cinético Molecular de los gases"
      ],
      "metadata": {
        "id": "yaP4Z7fzUgDZ"
      }
    },
    {
      "cell_type": "markdown",
      "source": [
        "4.3. ¿Por qué la temperatura se relaciona con la velocidad promedio de las partículas en un gas\n",
        "ideal?"
      ],
      "metadata": {
        "id": "d_EFjhS7Uh95"
      }
    },
    {
      "cell_type": "markdown",
      "source": [
        "Cuando aumenta la temperatura de un gas, significa que las partículas en el gas han ganado energía cinética, por lo que hay un aumento en su velocidad promedio. A medida que la temperatura aumenta, la energía cinética promedio de las partículas también aumenta. Esto implica que las partículas ganan velocidad, y por lo tanto, se mueven más rápidamente en un gas a temperaturas más altas."
      ],
      "metadata": {
        "id": "mh2Eri-vUjhz"
      }
    },
    {
      "cell_type": "markdown",
      "source": [
        "4.4. ¿Cómo cambia la presión de un gas ideal si se aumenta la velocidad promedio de sus\n",
        "partículas manteniendo constantes otros factores?"
      ],
      "metadata": {
        "id": "MHmOtaIrV185"
      }
    },
    {
      "cell_type": "markdown",
      "source": [
        "Si mantenemos constantes otros factores , y aumentamos la velocidad promedio de las partículas del gas ideal al aumentar su temperatura, la presión también aumentará."
      ],
      "metadata": {
        "id": "PSGf5uweXa1V"
      }
    },
    {
      "cell_type": "code",
      "source": [
        "V = 1.0  # Volumen en litros\n",
        "n = 1.0  # moles\n",
        "R = 0.0821\n",
        "\n",
        "temperatura_inicial = 273\n",
        "temperatura_final = 373\n",
        "presiones = []\n",
        "for temperatura in range(temperatura_inicial, temperatura_final + 1):\n",
        "    # Calcular la presión utilizando la ecuación del gas ideal (PV = nRT)\n",
        "    presion = (n * R * temperatura) / V\n",
        "    presiones.append(presion)\n",
        "\n",
        "print(\"Temperatura (K) | Presión (atm)\")\n",
        "for temperatura, presion in zip(range(temperatura_inicial, temperatura_final + 1), presiones):\n",
        "    print(f\"{temperatura} K            | {presion:.2f} atm\")\n",
        "\n"
      ],
      "metadata": {
        "id": "l9QuCBWtV2ih"
      },
      "execution_count": null,
      "outputs": []
    },
    {
      "cell_type": "markdown",
      "source": [
        "5. Ley General de los Gases Ideales"
      ],
      "metadata": {
        "id": "sdWbFO6NXhlq"
      }
    },
    {
      "cell_type": "markdown",
      "source": [
        "5.1. Utiliza la ecuación de los gases ideales para calcular la presión de 2 moles de gas en un\n",
        "recipiente de 5 litros a 25°C."
      ],
      "metadata": {
        "id": "LoURks2zX9Sb"
      }
    },
    {
      "cell_type": "code",
      "source": [
        "n = 2  # moles\n",
        "V = 5  # Volumen en litros\n",
        "R = 0.0821\n",
        "temperatura_Celsius = 25\n",
        "temperatura_kelvin = temperatura_Celsius + 273\n",
        "presion = (n * R * temperatura_kelvin) / V\n",
        "print(f\"La presión del gas es: {presion:.2f} atmósferas\")\n"
      ],
      "metadata": {
        "id": "C0K3LAC5XrLy"
      },
      "execution_count": null,
      "outputs": []
    },
    {
      "cell_type": "markdown",
      "source": [
        "5.2. Si tienes un gas que ocupa 10 litros a 3 atmósferas de presión y 273 K de temperatura,\n",
        "¿cuántos moles de gas tienes?"
      ],
      "metadata": {
        "id": "K12saWanYD0j"
      }
    },
    {
      "cell_type": "code",
      "source": [
        "V = 10         # volumen en litros\n",
        "R = 0.0821\n",
        "T = 273 #kelvin\n",
        "P = 3 #atmósferas\n",
        "n = (P * V) / (R * T)\n",
        "print(f\"Los moles de gas que se obtienen son: {n:.2f} moles\")"
      ],
      "metadata": {
        "id": "ObWDvYVsYEWC"
      },
      "execution_count": null,
      "outputs": []
    },
    {
      "cell_type": "markdown",
      "source": [
        "6. Ley de Gay-Lussac:"
      ],
      "metadata": {
        "id": "NkRl-Yu1ajCe"
      }
    },
    {
      "cell_type": "markdown",
      "source": [
        "6.1. Un recipiente de 2 litros contiene 1 mol de gas a 300 K. Si la presión se duplica manteniendo\n",
        "el volumen constante, ¿cuál será la nueva temperatura?"
      ],
      "metadata": {
        "id": "lACSRWlUao80"
      }
    },
    {
      "cell_type": "code",
      "source": [
        "V = 2\n",
        "n = 1\n",
        "T = 300\n",
        "R = 0.0821\n",
        "P= (n *  T * R)/V\n",
        "print(f\"la presion actual del gas es de: {P: .2f} atmosferas\")\n",
        "P2 = P*2\n",
        "T2 = (P2 * V) / (R * n)\n",
        "print(f\"la nueva temperatura sera de: {T2} K\")"
      ],
      "metadata": {
        "id": "lamrFCwGappE"
      },
      "execution_count": null,
      "outputs": []
    },
    {
      "cell_type": "markdown",
      "source": [],
      "metadata": {
        "id": "JH937BJzf9h-"
      }
    },
    {
      "cell_type": "markdown",
      "source": [
        "6.2. Un globo se llena con 3 moles de gas a 25 °C. Si la temperatura se incrementa a 75 °C, ¿cuál\n",
        "será el nuevo volumen del globo?"
      ],
      "metadata": {
        "id": "D48YdzobcUUs"
      }
    },
    {
      "cell_type": "code",
      "source": [
        "n = 3\n",
        "V = 22.4 * 3 # en condicion ideal\n",
        "R = 0.0821\n",
        "T_Celsius = 25\n",
        "T_Kelvin = T_Celsius + 273\n",
        "P = (R * T_Kelvin * n) / V\n",
        "print(f\"La presion del globo actual es de {P} atmosferas\")\n",
        "T_Celsius2 = 75\n",
        "T_Kelvin2 = T_Celsius2 + 273\n",
        "V2 = (R * T_Kelvin2 * n) / P\n",
        "print(f\"El nuevo volumen del globo a {T_Kelvin2} kelvin será {V2:.2f} litros.\")\n"
      ],
      "metadata": {
        "id": "0RXbu4ZscVfs"
      },
      "execution_count": null,
      "outputs": []
    },
    {
      "cell_type": "markdown",
      "source": [
        "tambien podemos resolverlo asi:"
      ],
      "metadata": {
        "id": "r2viinEbwWLF"
      }
    },
    {
      "cell_type": "code",
      "source": [
        "moles = 3\n",
        "V = 22.4\n",
        "T_Celsius = 25\n",
        "T_Celsius2 = 75\n",
        "T1_Kelvin = T_Celsius + 273\n",
        "T2_Kelvin = T_Celsius2 + 273\n",
        "volumen_inicial = moles * V\n",
        "V2 = volumen_inicial * (T2_Kelvin / T1_Kelvin)\n",
        "print(f\"El nuevo volumen del globo a {T2_Kelvin} kelvin será {V2:.2f} litros.\")"
      ],
      "metadata": {
        "id": "d5fSiPcBvvFj"
      },
      "execution_count": null,
      "outputs": []
    },
    {
      "cell_type": "markdown",
      "source": [
        "7. Ley de Charles:"
      ],
      "metadata": {
        "id": "eJQ01TrZweYv"
      }
    },
    {
      "cell_type": "markdown",
      "source": [
        "7.1. Un globo se llena con 2 moles de gas a 25 °C. Si el volumen inicial es de 5 litros, ¿cuál será el\n",
        "volumen a 50 °C, manteniendo constante la presión?"
      ],
      "metadata": {
        "id": "5eCsF-41wgf-"
      }
    },
    {
      "cell_type": "code",
      "source": [
        "V = 5\n",
        "T1_Celsius = 25\n",
        "T2_Celsius = 50\n",
        "n = 2\n",
        "T1_Kelvin = T1_Celsius + 273\n",
        "T2_Kelvin = T2_Celsius + 273\n",
        "V2 = (V1 * T2_Kelvin / T1_Kelvin) * n\n",
        "\n",
        "print(f\"El volumen a {T2_Kelvin} kelvin será {V2} litros.\")"
      ],
      "metadata": {
        "id": "WdSfJwgpwdw6"
      },
      "execution_count": null,
      "outputs": []
    },
    {
      "cell_type": "markdown",
      "source": [
        "7.2. Si un gas ocupa un volumen de 2 litros a 0 °C, ¿cuál será el volumen a 100 °C si la presión se\n",
        "mantiene constante?"
      ],
      "metadata": {
        "id": "YMjBPtve5r_l"
      }
    },
    {
      "cell_type": "code",
      "source": [
        "V = 2\n",
        "T = 273 #k\n",
        "T2 = 373 #k\n",
        "V2 = (V * T2) / T\n",
        "print(f\"El volumen a {T2} kelvin será {V2} litros\")"
      ],
      "metadata": {
        "id": "fr0xfqOv5tv9"
      },
      "execution_count": null,
      "outputs": []
    },
    {
      "cell_type": "markdown",
      "source": [
        "8. Ley de Boyle-Mariotte:"
      ],
      "metadata": {
        "id": "cI8ghKyO64ew"
      }
    },
    {
      "cell_type": "markdown",
      "source": [
        "8.1. Un gas ocupa 2 litros a una presión de 3 atmósferas. Si se comprime a 1 litro, ¿cuál será la\n",
        "nueva presión a temperatura constante?"
      ],
      "metadata": {
        "id": "BkFFLmGc69xs"
      }
    },
    {
      "cell_type": "code",
      "source": [
        "V = 2\n",
        "P = 3\n",
        "V2 = 1\n",
        "P2 = (V * P) / V2\n",
        "print(f\"La nueva presion a temperatura constante será de {P2}\")"
      ],
      "metadata": {
        "id": "DiD46kCD6-HD"
      },
      "execution_count": null,
      "outputs": []
    },
    {
      "cell_type": "code",
      "source": [
        "8.2. Si un gas a 2 atmósferas de presión ocupa un volumen de 10 litros, ¿cuál sería el nuevo\n",
        "volumen si la presión se duplica?"
      ],
      "metadata": {
        "id": "g6vbbCR58W53"
      },
      "execution_count": null,
      "outputs": []
    },
    {
      "cell_type": "code",
      "source": [
        "P = 2\n",
        "V = 10\n",
        "P2 = P * 2\n",
        "V2 = (P * V) / P2\n",
        "print(f\"el nuevo volumen si la presion se duplica será {V2}\")"
      ],
      "metadata": {
        "id": "G27bQEfG8Ym-"
      },
      "execution_count": null,
      "outputs": []
    },
    {
      "cell_type": "markdown",
      "source": [
        "9. Ley de las presiones parciales de Dalton:"
      ],
      "metadata": {
        "id": "M2__2Swl85sG"
      }
    },
    {
      "cell_type": "markdown",
      "source": [
        "9.1. Un recipiente contiene oxígeno (O2) y nitrógeno (N2) a una presión total de 3 atmósferas. Si\n",
        "la presión parcial de O2 es de 1 atmósfera, ¿cuál es la presión parcial de N2?"
      ],
      "metadata": {
        "id": "RrtFOkHX88w4"
      }
    },
    {
      "cell_type": "code",
      "source": [
        "presion_total = 3\n",
        "presion_O2 = 1\n",
        "fraccion_molar_N2 = 1 - (presion_O2 / presion_total)\n",
        "presion_N2 = presion_total * fraccion_molar_N2\n",
        "print(f\"La presión parcial de N2 en la mezcla es {presion_N2} atmósferas.\")"
      ],
      "metadata": {
        "id": "zJgXp5_hAMqZ"
      },
      "execution_count": null,
      "outputs": []
    },
    {
      "cell_type": "markdown",
      "source": [
        "9.2. En un recipiente, la presión parcial de hidrógeno (H2) es de 0.2 atmósferas, la del oxígeno\n",
        "(O2) es de 0.5 atmósferas y la del nitrógeno (N2) es de 0.3 atmósferas. ¿Cuál es la presión total\n",
        "en el recipiente?l\n",
        "en el recipiente"
      ],
      "metadata": {
        "id": "F3WkpqrgBEL6"
      }
    },
    {
      "cell_type": "code",
      "source": [
        "# Presiones parciales de los gases en atmósferas\n",
        "presion_H2 = 0.2\n",
        "presion_O2 = 0.5\n",
        "presion_N2 = 0.3\n",
        "presion_total = presion_H2 + presion_O2 + presion_N2\n",
        "print(f\"La presión total en el recipiente es {presion_total} atmósferas.\")"
      ],
      "metadata": {
        "id": "ZXi2ql1kBDfx"
      },
      "execution_count": null,
      "outputs": []
    },
    {
      "cell_type": "markdown",
      "source": [
        "10. Gases Reales:"
      ],
      "metadata": {
        "id": "fmbeDPkQBjpN"
      }
    },
    {
      "cell_type": "markdown",
      "source": [
        "10.1. Si 2 moles de un gas real ocupan 3 litros a 300 K y 2 atmósferas de presión, ¿cuál es el factor\n",
        "de compresibilidad (Z) del gas?"
      ],
      "metadata": {
        "id": "GNlytvAFBj_s"
      }
    },
    {
      "cell_type": "code",
      "source": [
        "n = 2\n",
        "V = 3\n",
        "T = 300\n",
        "P = 2\n",
        "R = 0.0821\n",
        "Z = (P * V) / (n * R * T)\n",
        "\n",
        "# Imprimir el resultado\n",
        "print(f\"El factor de compresibilidad (Z) del gas es {Z}\")"
      ],
      "metadata": {
        "colab": {
          "base_uri": "https://localhost:8080/"
        },
        "id": "msP1bCqYBkaD",
        "outputId": "8aaf7f0a-886a-4882-dee0-6955713e0120"
      },
      "execution_count": 34,
      "outputs": [
        {
          "output_type": "stream",
          "name": "stdout",
          "text": [
            "El factor de compresibilidad (Z) del gas es 0.12180267965895249\n"
          ]
        }
      ]
    },
    {
      "cell_type": "markdown",
      "source": [
        "10.2. Un gas real se encuentra en un recipiente de 5 litros a 350 K y 4 atmósferas de presión.\n",
        "Calcular el factor de compresibilidad (Z) del gas en estas condiciones."
      ],
      "metadata": {
        "id": "_znaSHkWBk5Q"
      }
    },
    {
      "cell_type": "code",
      "source": [
        "V = 5\n",
        "T = 350\n",
        "P = 4\n",
        "R = 0.0821\n",
        "n = (P * V) / (R * T)\n",
        "Z = (P * V) / (n * R * T)\n",
        "print(f\"El factor de compresibilidad (Z) del gas es {Z}\")"
      ],
      "metadata": {
        "colab": {
          "base_uri": "https://localhost:8080/"
        },
        "id": "a1fxC0rOBleN",
        "outputId": "3f7160c7-4459-43b2-f3be-9dd7acd79595"
      },
      "execution_count": 35,
      "outputs": [
        {
          "output_type": "stream",
          "name": "stdout",
          "text": [
            "El factor de compresibilidad (Z) del gas es 1.0\n"
          ]
        }
      ]
    }
  ]
}